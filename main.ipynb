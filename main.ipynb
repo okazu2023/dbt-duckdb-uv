{
 "cells": [
  {
   "cell_type": "markdown",
   "metadata": {},
   "source": [
    "# dbt-duckdb-uv\n",
    "\n",
    "カーネルは、uvで作成した仮想環境を選択してください。"
   ]
  },
  {
   "cell_type": "markdown",
   "metadata": {},
   "source": [
    "## 1. Deploy\n",
    "\n",
    "事前に作成した、各種 dbt モデルをデプロイする。"
   ]
  },
  {
   "cell_type": "code",
   "execution_count": null,
   "metadata": {},
   "outputs": [],
   "source": [
    "!dbt run"
   ]
  },
  {
   "cell_type": "markdown",
   "metadata": {},
   "source": [
    "## 2. Check\n",
    "\n",
    "どのようなテーブルが作成されたか、 Python を使用して DuckDB を確認する。"
   ]
  },
  {
   "cell_type": "markdown",
   "metadata": {},
   "source": [
    "### 2.1. Table List"
   ]
  },
  {
   "cell_type": "code",
   "execution_count": null,
   "metadata": {},
   "outputs": [],
   "source": [
    "import duckdb\n",
    "\n",
    "with duckdb.connect(\"local.duckdb\") as con:\n",
    "    con.sql(\"show all tables;\").show()"
   ]
  },
  {
   "cell_type": "markdown",
   "metadata": {},
   "source": [
    "### 2.2. Staging Layer"
   ]
  },
  {
   "cell_type": "code",
   "execution_count": null,
   "metadata": {},
   "outputs": [],
   "source": [
    "stg_table = \"stg_data_lake_raw__raw_titanic3\"\n",
    "with duckdb.connect(\"local.duckdb\") as con:\n",
    "    stg_df = con.sql(f\"select * from '{stg_table}';\").df()\n",
    "stg_df"
   ]
  },
  {
   "cell_type": "markdown",
   "metadata": {},
   "source": [
    "### 2.3. Data Mart Layer"
   ]
  },
  {
   "cell_type": "code",
   "execution_count": null,
   "metadata": {},
   "outputs": [],
   "source": [
    "dm_table = \"dim_survived_city__daily\"\n",
    "with duckdb.connect(\"local.duckdb\") as con:\n",
    "    dm_df = con.sql(f\"select * from '{dm_table}';\").df()\n",
    "dm_df"
   ]
  },
  {
   "cell_type": "markdown",
   "metadata": {},
   "source": [
    "## 3. Docs\n",
    "\n",
    "チュートリアルなので、今回はここで実行しますが、全体的に dbt コマンドは別途ターミナルでの実行を推奨します。"
   ]
  },
  {
   "cell_type": "code",
   "execution_count": null,
   "metadata": {},
   "outputs": [],
   "source": [
    "!dbt docs generate\n",
    "!dbt docs serve"
   ]
  }
 ],
 "metadata": {
  "kernelspec": {
   "display_name": ".venv",
   "language": "python",
   "name": "python3"
  },
  "language_info": {
   "codemirror_mode": {
    "name": "ipython",
    "version": 3
   },
   "file_extension": ".py",
   "mimetype": "text/x-python",
   "name": "python",
   "nbconvert_exporter": "python",
   "pygments_lexer": "ipython3",
   "version": "3.12.5"
  }
 },
 "nbformat": 4,
 "nbformat_minor": 2
}
